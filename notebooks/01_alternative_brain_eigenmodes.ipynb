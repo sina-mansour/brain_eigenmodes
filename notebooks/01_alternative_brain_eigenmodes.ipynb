{
 "cells": [
  {
   "cell_type": "markdown",
   "id": "f3d9d9ab-9041-49cd-a4f9-059c03cb09b9",
   "metadata": {},
   "source": [
    "# Alternative brain eigenmodes:\n",
    "\n",
    "This notebook contains the scripts that generate several alternative brain eigenmodes that were used in our evaluations.\n"
   ]
  },
  {
   "cell_type": "markdown",
   "id": "8c8b6764-f56e-4728-8453-766049b3c312",
   "metadata": {
    "tags": []
   },
   "source": [
    "##### Package imports\n",
    "\n",
    "---\n"
   ]
  },
  {
   "cell_type": "code",
   "execution_count": 1,
   "id": "75fb501b-058d-44ab-9e2b-7d0fd5f74c60",
   "metadata": {},
   "outputs": [
    {
     "name": "stdout",
     "output_type": "stream",
     "text": [
      "Jupyter environment detected. Enabling Open3D WebVisualizer.\n",
      "[Open3D INFO] WebRTC GUI backend enabled.\n",
      "[Open3D INFO] WebRTCWindowSystem: HTTP handshake server disabled.\n"
     ]
    }
   ],
   "source": [
    "import os\n",
    "import gc\n",
    "import sys\n",
    "import glob\n",
    "import json\n",
    "import random\n",
    "import datetime\n",
    "import importlib\n",
    "import itertools\n",
    "import numpy as np\n",
    "from scipy import spatial\n",
    "import scipy.sparse as sparse\n",
    "import scipy.stats as stats\n",
    "import scipy.io as sio\n",
    "import pandas as pd\n",
    "import nibabel as nib\n",
    "import matplotlib as mpl\n",
    "import matplotlib.pyplot as plt\n",
    "from matplotlib.colors import LinearSegmentedColormap\n",
    "from matplotlib.gridspec import GridSpec\n",
    "from mpl_toolkits.axes_grid1.inset_locator import inset_axes\n",
    "import seaborn as sns\n",
    "import boto3\n",
    "import lapy\n",
    "import h5py\n",
    "from sklearn import linear_model\n",
    "\n",
    "# CSS used for computing local distances and connectome smoothing\n",
    "from Connectome_Spatial_Smoothing import CSS as css\n",
    "\n",
    "# Cerebro brain viewer used for visualization\n",
    "from cerebro import cerebro_brain_utils as cbu\n",
    "from cerebro import cerebro_brain_viewer as cbv\n"
   ]
  },
  {
   "cell_type": "markdown",
   "id": "93b37728-3641-4743-b962-fcfa655c9d04",
   "metadata": {
    "tags": []
   },
   "source": [
    "##### Basic functions\n",
    "\n",
    "---\n"
   ]
  },
  {
   "cell_type": "code",
   "execution_count": 2,
   "id": "1b626e5f-6ac7-480b-9789-8f1fad7dc1c5",
   "metadata": {},
   "outputs": [],
   "source": [
    "# Some useful functions\n",
    "\n",
    "class MyNumpyEncoder(json.JSONEncoder):\n",
    "    def default(self, obj):\n",
    "        if isinstance(obj, np.integer):\n",
    "            return int(obj)\n",
    "        elif isinstance(obj, np.floating):\n",
    "            return float(obj)\n",
    "        elif isinstance(obj, np.ndarray):\n",
    "            return obj.tolist()\n",
    "        else:\n",
    "            return super(MyEncoder, self).default(obj)\n",
    "\n",
    "\n",
    "def ensure_dir(file_name):\n",
    "    os.makedirs(os.path.dirname(file_name), exist_ok=True)\n",
    "    return file_name\n",
    "\n",
    "\n",
    "def list_dirs(path=os.getcwd()):\n",
    "    files = glob.glob(os.path.join(path, '*'))\n",
    "    files = [x for x in files if os.path.isdir(x)]\n",
    "    return files\n",
    "\n",
    "\n",
    "def file_exists(file_name, path_name=os.getcwd()):\n",
    "    return os.path.isfile(os.path.join(path_name, file_name))\n",
    "\n",
    "\n",
    "def write_json(json_obj, file_path):\n",
    "    with open(file_path, 'w') as outfile:\n",
    "        json.dump(json_obj, outfile, sort_keys=True, indent=4,\n",
    "                  cls=MyNumpyEncoder)\n",
    "    return json_obj\n",
    "\n",
    "\n",
    "def load_json(file_path):\n",
    "    with open(file_path, 'r') as infile:\n",
    "        return json.load(infile)\n",
    "\n",
    "\n",
    "def write_np(np_obj, file_path):\n",
    "    with open(file_path, 'wb') as outfile:\n",
    "        np.save(outfile, np_obj)\n",
    "\n",
    "\n",
    "def load_np(file_path):\n",
    "    with open(file_path, 'rb') as infile:\n",
    "        return np.load(infile)\n",
    "\n",
    "# Function to compute density of a high-resolution connectome\n",
    "def density(adj):\n",
    "    adj = adj.copy().tocoo()\n",
    "    return (\n",
    "        np.sum(adj.row != adj.col) /\n",
    "        (adj.shape[0] * (adj.shape[0] - 1))\n",
    "    )\n"
   ]
  },
  {
   "cell_type": "markdown",
   "id": "32417db2-aaa6-47d8-989f-bfdd32653b97",
   "metadata": {
    "tags": []
   },
   "source": [
    "##### Directory structure\n",
    "\n",
    "---\n"
   ]
  },
  {
   "cell_type": "code",
   "execution_count": 3,
   "id": "d4d24017-9138-4e24-8a6b-6dd0609b4b18",
   "metadata": {},
   "outputs": [],
   "source": [
    "# path setting\n",
    "main_dir = os.path.abspath('../')\n",
    "\n",
    "data_dir = f\"{main_dir}/data\"\n"
   ]
  },
  {
   "cell_type": "markdown",
   "id": "1f0109df-6828-483d-b6c8-cc7956b6e2ab",
   "metadata": {
    "tags": []
   },
   "source": [
    "##### Extracting mesh connectivity structure\n",
    "\n",
    "---\n"
   ]
  },
  {
   "cell_type": "code",
   "execution_count": 4,
   "id": "a83f1bcd-2df3-49dc-ab2c-cd21359720ce",
   "metadata": {
    "tags": []
   },
   "outputs": [],
   "source": [
    "# basic parameters\n",
    "surface = 'midthickness_MSMAll'\n",
    "\n",
    "# load an example dscalar\n",
    "dscalar_file = f'{data_dir}/templates/ones.dscalar.nii'\n",
    "dscalar = nib.load(dscalar_file)\n",
    "\n",
    "brain_models = [x for x in dscalar.header.get_index_map(1).brain_models]\n",
    "\n",
    "# load surfaces for visualization\n",
    "left_surface_file = f'{data_dir}/templates/S1200.L.{surface}.32k_fs_LR.surf.gii'\n",
    "left_surface = nib.load(left_surface_file)\n",
    "right_surface_file = f'{data_dir}/templates/S1200.R.{surface}.32k_fs_LR.surf.gii'\n",
    "right_surface = nib.load(right_surface_file)\n",
    "\n",
    "# create a mapping between surface and cifti vertices\n",
    "left_cortical_surface_model, right_cortical_surface_model = brain_models[0], brain_models[1]\n",
    "cifti_to_surface = {}\n",
    "surface_to_cifti = {}\n",
    "for (i, x) in enumerate(left_cortical_surface_model.vertex_indices):\n",
    "    cifti_to_surface[i] = x\n",
    "    surface_to_cifti[x] = i\n",
    "for (i, x) in enumerate(right_cortical_surface_model.vertex_indices):\n",
    "    cifti_to_surface[i + right_cortical_surface_model.index_offset] = x + right_surface.darrays[0].data.shape[0]\n",
    "    surface_to_cifti[x + right_surface.darrays[0].data.shape[0]] = i + right_cortical_surface_model.index_offset\n",
    "\n",
    "# construct data over surface\n",
    "surface_mask = list(surface_to_cifti.keys())\n",
    "\n",
    "left_surface_mask = surface_mask[:right_cortical_surface_model.index_offset]\n",
    "right_surface_mask = surface_mask[right_cortical_surface_model.index_offset:]\n"
   ]
  },
  {
   "cell_type": "markdown",
   "id": "34704086-cf0d-46a2-818c-9213adc95199",
   "metadata": {},
   "source": [
    "## OSF deposited data:\n",
    "\n",
    "\n",
    "---\n",
    "\n",
    "First, downloading data from Pang et al. (2023) that was deposited to [OSF](https://osf.io/xczmp/).\n"
   ]
  },
  {
   "cell_type": "code",
   "execution_count": null,
   "id": "631d6388-7f85-49a2-bf81-76fb2d237a41",
   "metadata": {},
   "outputs": [],
   "source": [
    "! mkdir \"../data/pang\""
   ]
  },
  {
   "cell_type": "markdown",
   "id": "143e4caa-e588-4cb7-82e1-4d309ab6adc7",
   "metadata": {},
   "source": [
    "Note: If you are planning to replicate our scripts, in the following command, you should replace `<Data_URL>` with a download link acquired from [here](https://osf.io/xczmp/files/osfstorage)."
   ]
  },
  {
   "cell_type": "code",
   "execution_count": null,
   "id": "7c6b7738-2f77-4cc1-9401-1c7c7f1484a3",
   "metadata": {},
   "outputs": [],
   "source": [
    "! curl -JL -o \"../data/pang/osf_data.zip\" <Data_URL>"
   ]
  },
  {
   "cell_type": "markdown",
   "id": "bdb5acef-b4cc-426a-94e8-f41af88d1f4c",
   "metadata": {},
   "source": [
    "Once the data is downloaded, extract the compressed archive:"
   ]
  },
  {
   "cell_type": "code",
   "execution_count": 5,
   "id": "e9990206-99d2-44a0-a45e-8ecca6eed7a1",
   "metadata": {},
   "outputs": [
    {
     "name": "stdout",
     "output_type": "stream",
     "text": [
      "empirical  osf_data.zip  results  template_eigenmodes\n"
     ]
    }
   ],
   "source": [
    "! ls \"../data/pang\""
   ]
  },
  {
   "cell_type": "code",
   "execution_count": null,
   "id": "7ea1f54b-e9c5-4d26-b1b0-b19799c3a165",
   "metadata": {
    "scrolled": true,
    "tags": []
   },
   "outputs": [],
   "source": [
    "! unzip \"../data/pang/osf_data.zip\" -d \"../data/pang/\""
   ]
  },
  {
   "cell_type": "markdown",
   "id": "7729ac5a-fd09-458d-ac21-a977d0eeccc0",
   "metadata": {},
   "source": [
    "Load the eigenmodes:"
   ]
  },
  {
   "cell_type": "code",
   "execution_count": 6,
   "id": "f161aaf8-94b9-4215-8e20-77bf69298808",
   "metadata": {},
   "outputs": [
    {
     "data": {
      "text/plain": [
       "(32492, 200)"
      ]
     },
     "execution_count": 6,
     "metadata": {},
     "output_type": "execute_result"
    }
   ],
   "source": [
    "### Geometry eigenmodes:\n",
    "pang_geometric_eigenmodes = np.genfromtxt(f\"{data_dir}/pang/results/basis_geometric_midthickness-lh_evec_200.txt\")\n",
    "\n",
    "pang_geometric_eigenmodes.shape\n"
   ]
  },
  {
   "cell_type": "code",
   "execution_count": 7,
   "id": "17525be9-5b0e-4295-acb8-c439e2a9cc89",
   "metadata": {},
   "outputs": [
    {
     "data": {
      "text/plain": [
       "(32492, 200)"
      ]
     },
     "execution_count": 7,
     "metadata": {},
     "output_type": "execute_result"
    }
   ],
   "source": [
    "### EDR eigenmodes:\n",
    "with h5py.File(f\"{data_dir}/pang/results/basis_connectome_EDR_midthickness-lh_evec_200.mat\", 'r') as f:\n",
    "    pang_edr_eigenmodes = np.array(f['eig_vec']).T\n",
    "\n",
    "pang_edr_eigenmodes.shape\n",
    "    "
   ]
  },
  {
   "cell_type": "code",
   "execution_count": 8,
   "id": "51876845-78b6-422b-ba7f-4360628ecea2",
   "metadata": {},
   "outputs": [
    {
     "data": {
      "text/plain": [
       "(32492, 200)"
      ]
     },
     "execution_count": 8,
     "metadata": {},
     "output_type": "execute_result"
    }
   ],
   "source": [
    "### Connectome eigenmodes:\n",
    "with h5py.File(f\"{data_dir}/pang/results/basis_connectome_midthickness-lh_evec_200.mat\", 'r') as f:\n",
    "    pang_connectome_eigenmodes = np.array(f['eig_vec']).T\n",
    "\n",
    "pang_connectome_eigenmodes.shape\n",
    "    "
   ]
  },
  {
   "cell_type": "markdown",
   "id": "c84fc2dd-b0e9-451b-b58d-966737ae9d86",
   "metadata": {},
   "source": [
    "Store the eigenmodes in a NumPy binary file:"
   ]
  },
  {
   "cell_type": "code",
   "execution_count": 9,
   "id": "904d84e1-f8e0-4069-9d55-1f11f4ec08a9",
   "metadata": {},
   "outputs": [],
   "source": [
    "# number of modes\n",
    "N_modes = 200\n"
   ]
  },
  {
   "cell_type": "code",
   "execution_count": 10,
   "id": "29913b03-cb71-40f3-8def-c3509e9f6588",
   "metadata": {},
   "outputs": [],
   "source": [
    "write_np(\n",
    "    pang_geometric_eigenmodes[left_surface_mask, :N_modes],\n",
    "    ensure_dir(f\"{data_dir}/eigenmodes/pang_geometric_eigenmodes.npy\")\n",
    ")\n"
   ]
  },
  {
   "cell_type": "code",
   "execution_count": 11,
   "id": "4b486d26-8f62-4791-979f-2b1cb455acaa",
   "metadata": {},
   "outputs": [],
   "source": [
    "write_np(\n",
    "    pang_edr_eigenmodes[left_surface_mask, :N_modes],\n",
    "    ensure_dir(f\"{data_dir}/eigenmodes/pang_edr_eigenmodes.npy\")\n",
    ")\n"
   ]
  },
  {
   "cell_type": "code",
   "execution_count": 12,
   "id": "25f165a5-24f0-417b-b5b1-46ae93498539",
   "metadata": {},
   "outputs": [],
   "source": [
    "write_np(\n",
    "    pang_connectome_eigenmodes[left_surface_mask, :N_modes],\n",
    "    ensure_dir(f\"{data_dir}/eigenmodes/pang_connectome_eigenmodes.npy\")\n",
    ")\n"
   ]
  },
  {
   "cell_type": "code",
   "execution_count": null,
   "id": "d6fefe4d-bb40-489e-85ee-0c9e1f8afeb1",
   "metadata": {},
   "outputs": [],
   "source": []
  }
 ],
 "metadata": {
  "kernelspec": {
   "display_name": "Conda environment for normative modelling",
   "language": "python",
   "name": "pymc_env"
  },
  "language_info": {
   "codemirror_mode": {
    "name": "ipython",
    "version": 3
   },
   "file_extension": ".py",
   "mimetype": "text/x-python",
   "name": "python",
   "nbconvert_exporter": "python",
   "pygments_lexer": "ipython3",
   "version": "3.10.6"
  }
 },
 "nbformat": 4,
 "nbformat_minor": 5
}
