{
 "cells": [
  {
   "cell_type": "markdown",
   "id": "53cec2f9-9e56-4336-9fde-6b779513bcbe",
   "metadata": {},
   "source": [
    "# Notebook 2; Reconstruction accuracy:\n",
    "\n",
    "This notebook contains the scripts that compute the reconstruction accuracy of various brain eigenmodes over HCP's resting-state and task fMRI data.\n"
   ]
  },
  {
   "cell_type": "markdown",
   "id": "fe11dbe5-6cdb-4fba-9ef5-560809728832",
   "metadata": {
    "tags": []
   },
   "source": [
    "## Preliminary scripts\n",
    "\n",
    "---\n",
    "\n",
    "These scripts load required packages and define useful functions that are used by this notebook."
   ]
  },
  {
   "cell_type": "markdown",
   "id": "53ccc1a8-f0b6-4e49-8e10-a8fd8064bce7",
   "metadata": {
    "tags": []
   },
   "source": [
    "##### Package imports\n",
    "\n",
    "---\n"
   ]
  },
  {
   "cell_type": "code",
   "execution_count": 1,
   "id": "db216252-5115-4d50-a78c-a0f201467f9e",
   "metadata": {},
   "outputs": [
    {
     "name": "stdout",
     "output_type": "stream",
     "text": [
      "Jupyter environment detected. Enabling Open3D WebVisualizer.\n",
      "[Open3D INFO] WebRTC GUI backend enabled.\n",
      "[Open3D INFO] WebRTCWindowSystem: HTTP handshake server disabled.\n"
     ]
    }
   ],
   "source": [
    "import os\n",
    "import gc\n",
    "import sys\n",
    "import glob\n",
    "import json\n",
    "import random\n",
    "import datetime\n",
    "import importlib\n",
    "import itertools\n",
    "import numpy as np\n",
    "from scipy import spatial\n",
    "import scipy.sparse as sparse\n",
    "import scipy.stats as stats\n",
    "import scipy.io as sio\n",
    "import pandas as pd\n",
    "import nibabel as nib\n",
    "import matplotlib as mpl\n",
    "import matplotlib.pyplot as plt\n",
    "from matplotlib.colors import LinearSegmentedColormap\n",
    "from matplotlib.gridspec import GridSpec\n",
    "from mpl_toolkits.axes_grid1.inset_locator import inset_axes\n",
    "import seaborn as sns\n",
    "import boto3\n",
    "import lapy\n",
    "import h5py\n",
    "from sklearn import linear_model\n",
    "from tqdm.notebook import tqdm\n",
    "\n",
    "# CSS used for computing local distances and connectome smoothing\n",
    "from Connectome_Spatial_Smoothing import CSS as css\n",
    "\n",
    "# Cerebro brain viewer used for visualization\n",
    "from cerebro import cerebro_brain_utils as cbu\n",
    "from cerebro import cerebro_brain_viewer as cbv\n"
   ]
  },
  {
   "cell_type": "markdown",
   "id": "5d14c26b-e184-43c6-8577-29602f52959d",
   "metadata": {
    "tags": []
   },
   "source": [
    "##### Basic functions\n",
    "\n",
    "---\n"
   ]
  },
  {
   "cell_type": "code",
   "execution_count": 2,
   "id": "d5576223-dea0-4f9c-a58c-1170f233d965",
   "metadata": {},
   "outputs": [],
   "source": [
    "# Some useful functions\n",
    "\n",
    "class MyNumpyEncoder(json.JSONEncoder):\n",
    "    def default(self, obj):\n",
    "        if isinstance(obj, np.integer):\n",
    "            return int(obj)\n",
    "        elif isinstance(obj, np.floating):\n",
    "            return float(obj)\n",
    "        elif isinstance(obj, np.ndarray):\n",
    "            return obj.tolist()\n",
    "        else:\n",
    "            return super(MyEncoder, self).default(obj)\n",
    "\n",
    "\n",
    "def ensure_dir(file_name):\n",
    "    os.makedirs(os.path.dirname(file_name), exist_ok=True)\n",
    "    return file_name\n",
    "\n",
    "\n",
    "def list_dirs(path=os.getcwd()):\n",
    "    files = glob.glob(os.path.join(path, '*'))\n",
    "    files = [x for x in files if os.path.isdir(x)]\n",
    "    return files\n",
    "\n",
    "\n",
    "def file_exists(file_name, path_name=os.getcwd()):\n",
    "    return os.path.isfile(os.path.join(path_name, file_name))\n",
    "\n",
    "\n",
    "def write_json(json_obj, file_path):\n",
    "    with open(file_path, 'w') as outfile:\n",
    "        json.dump(json_obj, outfile, sort_keys=True, indent=4,\n",
    "                  cls=MyNumpyEncoder)\n",
    "    return json_obj\n",
    "\n",
    "\n",
    "def load_json(file_path):\n",
    "    with open(file_path, 'r') as infile:\n",
    "        return json.load(infile)\n",
    "\n",
    "\n",
    "def write_np(np_obj, file_path):\n",
    "    with open(file_path, 'wb') as outfile:\n",
    "        np.save(outfile, np_obj)\n",
    "\n",
    "\n",
    "def load_np(file_path):\n",
    "    with open(file_path, 'rb') as infile:\n",
    "        return np.load(infile)\n"
   ]
  },
  {
   "cell_type": "markdown",
   "id": "98565f97-662c-475c-b2c3-7985761a0242",
   "metadata": {
    "tags": []
   },
   "source": [
    "##### Directory structure\n",
    "\n",
    "---\n"
   ]
  },
  {
   "cell_type": "code",
   "execution_count": 3,
   "id": "e5fcca2b-5e0f-4ffc-9673-77e7afd451ed",
   "metadata": {},
   "outputs": [],
   "source": [
    "# path setting\n",
    "main_dir = os.path.abspath('../')\n",
    "\n",
    "data_dir = f\"{main_dir}/data\"\n"
   ]
  },
  {
   "cell_type": "markdown",
   "id": "2e326699-cb01-4173-b651-24164eaf67fd",
   "metadata": {
    "tags": []
   },
   "source": [
    "##### Loading Laplacian eigenmodes\n",
    "\n",
    "---\n"
   ]
  },
  {
   "cell_type": "code",
   "execution_count": 4,
   "id": "5ec78098-100c-42dc-93c9-5e882b1c9d6d",
   "metadata": {},
   "outputs": [],
   "source": [
    "# function to load pre-computed eigenmodes\n",
    "def load_eigenmodes(prefix, store_path=f\"{data_dir}/eigenmodes\"):\n",
    "    return load_np(f'{store_path}/{prefix}_eigenmodes.npy')\n"
   ]
  },
  {
   "cell_type": "markdown",
   "id": "ec556b02-44e1-4b44-a561-6db9d08a73b9",
   "metadata": {
    "tags": []
   },
   "source": [
    "##### Brain atlas\n",
    "\n",
    "---\n"
   ]
  },
  {
   "cell_type": "code",
   "execution_count": 5,
   "id": "2aa3a8cc-ad21-4e4f-b05f-f69d5e1f76bc",
   "metadata": {},
   "outputs": [],
   "source": [
    "# Load the brain atlas\n",
    "HCPMMP1_labels, HCPMMP1_charmat = css.parcellation_characteristic_matrix()\n",
    "left_HCPMMP1_labels = HCPMMP1_labels[:180]\n",
    "left_HCPMMP1_charmat = HCPMMP1_charmat[:180, :29696]\n",
    "left_HCPMMP1_mean = left_HCPMMP1_charmat / left_HCPMMP1_charmat.sum(1)\n"
   ]
  },
  {
   "cell_type": "markdown",
   "id": "a45bea6a-5f67-423e-83a2-b2073690a91f",
   "metadata": {
    "tags": []
   },
   "source": [
    "##### 255 subjects list\n",
    "\n",
    "---\n"
   ]
  },
  {
   "cell_type": "code",
   "execution_count": 6,
   "id": "71186036-4b94-4c62-842c-cfbbfda787d6",
   "metadata": {},
   "outputs": [],
   "source": [
    "# 255 selected subjects\n",
    "subjects = np.genfromtxt(f\"{data_dir}/pang/empirical/subject_list_HCP.txt\", dtype=str)\n"
   ]
  },
  {
   "cell_type": "markdown",
   "id": "fb49ef09-1240-459e-8417-25bc3d5aacc1",
   "metadata": {
    "tags": []
   },
   "source": [
    "## Loading alternative connectome eigenmodes\n",
    "\n",
    "---\n",
    "\n",
    "Here we first load all various eigenmodes that are to be compared.\n",
    "\n",
    "**Note**: These eigenmodes were constructed in Notebook 1.\n"
   ]
  },
  {
   "cell_type": "code",
   "execution_count": 7,
   "id": "ccc1f581-f58e-41d4-a403-6e72898f4a77",
   "metadata": {},
   "outputs": [],
   "source": [
    "eigenmodes = {}\n",
    "N_modes = 200\n",
    "\n",
    "# those provided by Pang and colleagues:\n",
    "eigenmodes['Geometry (Pang et al.)'] = load_eigenmodes(prefix=\"pang_geometric\")[:, :N_modes]\n",
    "eigenmodes['EDR (Pang et al.)'] = load_eigenmodes(prefix=\"pang_edr\")[:, :N_modes]\n",
    "eigenmodes['Connectome (Pang et al.)'] = load_eigenmodes(prefix=\"pang_connectome\")[:, :N_modes]\n",
    "\n",
    "# those generated by us:\n",
    "eigenmodes['Our connectome'] = load_eigenmodes(prefix=\"our_connectome\")[:, :N_modes]\n",
    "eigenmodes['Density increase to 1%'] = load_eigenmodes(prefix=\"1%_density_binary_connectome\")[:, :N_modes]\n",
    "eigenmodes['Gyral bias: regression'] = load_eigenmodes(prefix=\"1%_density_binary_gyral_bias_regression_connectome\")[:, :N_modes]\n",
    "eigenmodes['Gyral bias: tractography'] = load_eigenmodes(prefix=\"1%_density_binary_gyral_bias_tractography_connectome\")[:, :N_modes]\n"
   ]
  },
  {
   "cell_type": "markdown",
   "id": "7821b78f-045b-4811-9bcf-96cf08e6ada8",
   "metadata": {
    "tags": []
   },
   "source": [
    "## Computing reconstruction coefficients and accuracies\n",
    "\n",
    "---\n"
   ]
  },
  {
   "cell_type": "code",
   "execution_count": 8,
   "id": "a94fe142-d47c-4a68-b1cb-88762b57d8ab",
   "metadata": {},
   "outputs": [],
   "source": [
    "def get_dot_product_coeffs(signal, eigenmodes):\n",
    "    return np.dot(signal, eigenmodes)\n",
    "\n",
    "def get_regression_coeffs(signal, eigenmodes):\n",
    "    # linear regression\n",
    "    regr = linear_model.LinearRegression(fit_intercept=False)\n",
    "    X = eigenmodes\n",
    "    y = signal\n",
    "    regr.fit(X, y)\n",
    "    return regr.coef_\n",
    "\n",
    "def compute_reconstruction_accuracy_atlas(eigenmodes, signal, atlas):\n",
    "    # dot product\n",
    "    eigenmodes_normalized = eigenmodes/np.linalg.norm(eigenmodes, axis=0)\n",
    "    encoded_signal = get_dot_product_coeffs(signal.reshape(1,-1), eigenmodes_normalized)\n",
    "    reconstruction_loadings = np.multiply(eigenmodes_normalized, encoded_signal)\n",
    "    gradually_reconstructed_signal = np.cumsum(reconstruction_loadings, axis=1)\n",
    "    # downsample to atlas\n",
    "    signal_atlas = np.asarray(atlas.dot(signal)).ravel()\n",
    "    gradually_reconstructed_signal_atlas = np.asarray(atlas.dot(gradually_reconstructed_signal))\n",
    "    # evaluate accuracy\n",
    "    reconstruction_accuracy_atlas = np.corrcoef(x=signal_atlas, y=gradually_reconstructed_signal_atlas.T)[1:,0]\n",
    "    return reconstruction_accuracy_atlas\n",
    "\n",
    "def compute_prediction_accuracy_atlas(eigenmodes, signal, atlas):\n",
    "    # regression coefficients\n",
    "    encoded_signal = get_regression_coeffs(signal, eigenmodes)\n",
    "    reconstruction_loadings = np.multiply(eigenmodes, encoded_signal)\n",
    "    gradually_reconstructed_signal = np.cumsum(reconstruction_loadings, axis=1)\n",
    "    # downsample to atlas\n",
    "    signal_atlas = np.asarray(atlas.dot(signal)).ravel()\n",
    "    gradually_reconstructed_signal_atlas = np.asarray(atlas.dot(gradually_reconstructed_signal))\n",
    "    # evaluate accuracy\n",
    "    prediction_accuracy_atlas = np.corrcoef(x=signal_atlas, y=gradually_reconstructed_signal_atlas.T)[1:,0]\n",
    "    return prediction_accuracy_atlas\n"
   ]
  },
  {
   "cell_type": "markdown",
   "id": "58e7192a-fd24-4050-ad7b-54eefd8c2768",
   "metadata": {
    "tags": []
   },
   "source": [
    "### Task-evoked activity\n",
    "\n",
    "---\n"
   ]
  },
  {
   "cell_type": "code",
   "execution_count": null,
   "id": "59c62ac3-1734-45c9-9aa0-856d58e384d2",
   "metadata": {},
   "outputs": [],
   "source": [
    "# list of the 47 task contrasts used\n",
    "task_contrast_cope_dict = {\n",
    "    'emotion_faces': ('EMOTION', '1'),\n",
    "    'emotion_faces_shapes': ('EMOTION', '3'),\n",
    "    'emotion_shapes': ('EMOTION', '2'),\n",
    "    'gambling_punish': ('GAMBLING', '1'),\n",
    "    'gambling_punish_reward': ('GAMBLING', '3'),\n",
    "    'gambling_reward': ('GAMBLING', '2'),\n",
    "    'language_math': ('LANGUAGE', '1'),\n",
    "    'language_math_story': ('LANGUAGE', '3'),\n",
    "    'language_story': ('LANGUAGE', '2'),\n",
    "    'motor_avg': ('MOTOR', '7'),\n",
    "    'motor_cue': ('MOTOR', '1'),\n",
    "    'motor_cue_avg': ('MOTOR', '8'),\n",
    "    'motor_lf': ('MOTOR', '2'),\n",
    "    'motor_lf_avg': ('MOTOR', '9'),\n",
    "    'motor_lh': ('MOTOR', '3'),\n",
    "    'motor_lh_avg': ('MOTOR', '10'),\n",
    "    'motor_rf': ('MOTOR', '4'),\n",
    "    'motor_rf_avg': ('MOTOR', '11'),\n",
    "    'motor_rh': ('MOTOR', '5'),\n",
    "    'motor_rh_avg': ('MOTOR', '12'),\n",
    "    'motor_t': ('MOTOR', '6'),\n",
    "    'motor_t_avg': ('MOTOR', '13'),\n",
    "    'relational_match': ('RELATIONAL', '1'),\n",
    "    'relational_match_rel': ('RELATIONAL', '3'),\n",
    "    'relational_rel': ('RELATIONAL', '2'),\n",
    "    'social_random': ('SOCIAL', '1'),\n",
    "    'social_tom': ('SOCIAL', '2'),\n",
    "    'social_tom_random': ('SOCIAL', '6'),\n",
    "    'wm_0bk': ('WM', '10'),\n",
    "    'wm_0bk_body': ('WM', '5'),\n",
    "    'wm_0bk_face': ('WM', '6'),\n",
    "    'wm_0bk_place': ('WM', '7'),\n",
    "    'wm_0bk_tool': ('WM', '8'),\n",
    "    'wm_2bk': ('WM', '9'),\n",
    "    'wm_2bk_0bk': ('WM', '11'),\n",
    "    'wm_2bk_body': ('WM', '1'),\n",
    "    'wm_2bk_face': ('WM', '2'),\n",
    "    'wm_2bk_place': ('WM', '3'),\n",
    "    'wm_2bk_tool': ('WM', '4'),\n",
    "    'wm_body': ('WM', '15'),\n",
    "    'wm_body_avg': ('WM', '19'),\n",
    "    'wm_face': ('WM', '16'),\n",
    "    'wm_face_avg': ('WM', '20'),\n",
    "    'wm_place': ('WM', '17'),\n",
    "    'wm_place_avg': ('WM', '21'),\n",
    "    'wm_tool': ('WM', '18'),\n",
    "    'wm_tool_avg': ('WM', '22'),\n",
    "}\n"
   ]
  },
  {
   "cell_type": "code",
   "execution_count": null,
   "id": "306300fd-d602-49ba-83b4-1dfde6c57d2a",
   "metadata": {},
   "outputs": [],
   "source": [
    "# Store task names\n",
    "task_names = list(task_contrast_cope_dict.keys())\n",
    "np.savetxt(f\"{data_dir}/task_names.txt\", task_names, fmt=\"%s\")\n"
   ]
  },
  {
   "cell_type": "code",
   "execution_count": null,
   "id": "41a38af2-1997-4b96-aaff-f1421582479f",
   "metadata": {},
   "outputs": [],
   "source": [
    "# Update the following address to link to your HCP data directory\n",
    "hcp_data_directory = '/HCPmount'\n"
   ]
  },
  {
   "cell_type": "code",
   "execution_count": null,
   "id": "7273e661-6422-4636-b405-3d5d08c7f5a0",
   "metadata": {},
   "outputs": [],
   "source": [
    "%%time\n",
    "\n",
    "# Save HCP data as NumPy binaries for fast access\n",
    "for task_contrast_cope in tqdm(task_contrast_cope_dict):\n",
    "    task, cope = task_contrast_cope_dict[task_contrast_cope]\n",
    "    file_name = (\n",
    "        '{hcp_data_directory}/3T_tfMRI_{task}_analysis_s4/{subject}/MNINonLinear/Results'\n",
    "        '/tfMRI_{task}/tfMRI_{task}_hp200_s4_level2_MSMAll.feat/GrayordinatesStats'\n",
    "        '/cope{cope}.feat/zstat1.dtseries.nii'\n",
    "    )\n",
    "    temp = np.array([\n",
    "        nib.load(\n",
    "            file_name.format(\n",
    "                hcp_data_directory=hcp_data_directory,\n",
    "                task=task,\n",
    "                subject=subject,\n",
    "                cope=cope,\n",
    "            )\n",
    "        ).get_fdata()[0,:29696]\n",
    "        for subject in subjects\n",
    "        if file_exists(file_name.format(\n",
    "                hcp_data_directory=hcp_data_directory,\n",
    "                task=task,\n",
    "                subject=subject,\n",
    "                cope=cope,\n",
    "            )\n",
    "        )\n",
    "    ])\n",
    "    np.save(\n",
    "        ensure_dir(f'{data_dir}/HCP/task/{task_contrast_cope}_S255.npy'),\n",
    "        temp\n",
    "    )\n"
   ]
  },
  {
   "cell_type": "code",
   "execution_count": null,
   "id": "6dc20bd9-ca70-4cbd-8af2-420d7f5fa90c",
   "metadata": {},
   "outputs": [],
   "source": [
    "%%time\n",
    "\n",
    "# Load the stored NumPy binaries to compute reconstruction accuracy\n",
    "subject_reconstruction_accuracies_atlas = {}\n",
    "for task_contrast in tqdm(task_names, desc=\"task contrasts\", position=0):\n",
    "    task_data = np.load(f'{data_dir}/HCP/task/{task_contrast}_S255.npy')\n",
    "    subject_reconstruction_accuracies_atlas[task_contrast] = {}\n",
    "    for eigenmode in tqdm(list(eigenmodes), desc=\"eigenmodes\", position=1, leave=False):\n",
    "        subject_reconstruction_accuracies_atlas[task_contrast][eigenmode] = np.array(\n",
    "            [\n",
    "                compute_reconstruction_accuracy_atlas(\n",
    "                    eigenmodes[eigenmode],\n",
    "                    task_data[i],\n",
    "                    left_HCPMMP1_mean,\n",
    "                ) for i in tqdm(range(task_data.shape[0]), desc=\"subjects\", position=2, leave=False)\n",
    "            ]\n",
    "        )\n",
    "    eigenmode = \"Geometry (Pang et al.)\"\n",
    "    subject_reconstruction_accuracies_atlas[task_contrast][f'{eigenmode} prediction'] = np.array(\n",
    "        [\n",
    "            compute_prediction_accuracy_atlas(\n",
    "                eigenmodes[eigenmode],\n",
    "                task_data[i],\n",
    "                left_HCPMMP1_mean,\n",
    "            ) for i in tqdm(range(task_data.shape[0]), desc=\"subjects\", position=1, leave=False)\n",
    "        ]\n",
    "    )\n"
   ]
  },
  {
   "cell_type": "code",
   "execution_count": null,
   "id": "f390283a-7b73-4620-bac0-f357dba2fa7c",
   "metadata": {},
   "outputs": [],
   "source": [
    "# efficiently store values for future use\n",
    "write_json(\n",
    "    subject_reconstruction_accuracies_atlas,\n",
    "    ensure_dir(f'{data_dir}/reconstruction_accuracy/test/subject_reconstruction_accuracies_atlas_task_fMRI.json'),\n",
    ");\n"
   ]
  },
  {
   "cell_type": "code",
   "execution_count": null,
   "id": "fba47572-25fa-4f50-be1f-1ff018ef9dac",
   "metadata": {},
   "outputs": [],
   "source": [
    "# this cell can be used to load the stored accuracies\n",
    "subject_reconstruction_accuracies_atlas = load_json(\n",
    "    f'{data_dir}/reconstruction_accuracy/test/subject_reconstruction_accuracies_atlas_task_fMRI.json'\n",
    ")\n",
    "\n",
    "for task in subject_reconstruction_accuracies_atlas:\n",
    "    for basis in subject_reconstruction_accuracies_atlas[task]:\n",
    "        subject_reconstruction_accuracies_atlas[task][basis] = np.array(subject_reconstruction_accuracies_atlas[task][basis])\n",
    "        "
   ]
  },
  {
   "cell_type": "markdown",
   "id": "0fb82315-45e3-4fb5-931a-4dd04c396c6f",
   "metadata": {
    "tags": []
   },
   "source": [
    "### Resting-state FC\n",
    "\n",
    "---\n"
   ]
  },
  {
   "cell_type": "code",
   "execution_count": null,
   "id": "e72ecdee-a7c5-4f33-91dd-b7dede0f45d4",
   "metadata": {},
   "outputs": [],
   "source": [
    "%%time\n",
    "\n",
    "# Save HCP data as NumPy binaries for fast access\n",
    "for subject in tqdm(subjects):\n",
    "    file_name = (\n",
    "        f\"{hcp_data_directory}/3T_rfMRI_REST_fix/{subject}/MNINonLinear/\"\n",
    "        f\"Results/rfMRI_REST1_LR/rfMRI_REST1_LR_Atlas_MSMAll_hp2000_clean.dtseries.nii\"\n",
    "    )\n",
    "    if file_exists(file_name):\n",
    "        temp = nib.load(file_name).get_fdata()[:,:29696]\n",
    "        np.save(\n",
    "            ensure_dir(f'{data_dir}/HCP/rest/{subject}_S255.npy'),\n",
    "            temp\n",
    "        )\n"
   ]
  },
  {
   "cell_type": "code",
   "execution_count": null,
   "id": "b53cb044-abc4-4934-bb74-4b4737512e6e",
   "metadata": {
    "tags": []
   },
   "outputs": [],
   "source": [
    "%%time\n",
    "\n",
    "# Load the stored NumPy binaries to compute reconstruction coefficients\n",
    "rest_reconstruction_coeffs = {}\n",
    "for subject in tqdm(subjects, desc=\"subjects\", position=0):\n",
    "    rest_reconstruction_coeffs[subject] = {}\n",
    "    left_rest_data = np.load(f'{data_dir}/HCP/rest/{subject}_S255.npy')\n",
    "    for eigenmode in tqdm(eigenmodes, desc=\"eigenmodes\", position=1, leave=False):\n",
    "        rest_reconstruction_coeffs[subject][eigenmode] = get_dot_product_coeffs(\n",
    "            left_rest_data - left_rest_data.mean(),\n",
    "            eigenmodes[eigenmode]\n",
    "        )\n",
    "    \n",
    "    eigenmode = \"Geometry (Pang et al.)\"\n",
    "    rest_reconstruction_coeffs[subject][f'{eigenmode} prediction'] = []\n",
    "    for rest_idx in tqdm(range(left_rest_data.shape[0]), desc=\"indices\", position=1, leave=False):\n",
    "        rest_reconstruction_coeffs[subject][f'{eigenmode} prediction'].append(\n",
    "            get_regression_coeffs(\n",
    "                left_rest_data[rest_idx] - left_rest_data.mean(),\n",
    "                eigenmodes[eigenmode]\n",
    "            )\n",
    "        )\n",
    "    rest_reconstruction_coeffs[subject][f'{eigenmode} prediction'] = np.array(rest_reconstruction_coeffs[subject][f'{eigenmode} prediction'])\n"
   ]
  },
  {
   "cell_type": "code",
   "execution_count": null,
   "id": "cd1ae533-bd77-47e2-9f5d-667275ae8953",
   "metadata": {
    "tags": []
   },
   "outputs": [],
   "source": [
    "# efficiently store values for future use\n",
    "for subject in tqdm(subjects, desc=\"subjects\", position=0):\n",
    "    for eigenmode in tqdm(eigenmodes, desc=\"eigenmodes\", position=1, leave=False):\n",
    "        write_np(\n",
    "            rest_reconstruction_coeffs[subject][eigenmode],\n",
    "            ensure_dir(f'{data_dir}/reconstruction_coefficients/rest/{subject}_{eigenmode}.npy')\n",
    "        )\n",
    "    eigenmode = \"Geometry (Pang et al.)\"\n",
    "    write_np(\n",
    "        rest_reconstruction_coeffs[subject][f'{eigenmode} prediction'],\n",
    "        ensure_dir(f'{data_dir}/reconstruction_coefficients/rest/{subject}_{eigenmode} prediction.npy')\n",
    "    )\n"
   ]
  },
  {
   "cell_type": "code",
   "execution_count": null,
   "id": "a7d49515-2ee7-4b38-9f47-6282789e34ce",
   "metadata": {},
   "outputs": [],
   "source": [
    "%%time\n",
    "\n",
    "# Load the stored NumPy binaries to compute reconstruction accuracy\n",
    "subject_static_FC_reconstruction_accuracies_rest = {}\n",
    "for subject in tqdm(subjects, desc=\"subjects\", position=0):\n",
    "    # compute actual FC\n",
    "    left_rest_data = np.load(f'{data_dir}/HCP/rest/{subject}_S255.npy')\n",
    "    left_static_FC = np.corrcoef(left_rest_data.dot(left_HCPMMP1_mean.T).T)\n",
    "    left_static_FC_triu = left_static_FC[np.triu_indices_from(left_static_FC, k=1)]\n",
    "    \n",
    "    subject_static_FC_reconstruction_accuracies_rest[subject] = {}\n",
    "    for eigenmode in tqdm(list(eigenmodes), desc=\"eigenmodes\", position=1, leave=False):\n",
    "        subject_static_FC_reconstruction_accuracies_rest[subject][eigenmode] = np.array([\n",
    "            np.corrcoef(\n",
    "                left_static_FC_triu,\n",
    "                np.corrcoef(\n",
    "                    np.dot(\n",
    "                        rest_reconstruction_coeffs[subject][eigenmode][:,:length],\n",
    "                        eigenmodes[eigenmode].T[:length]\n",
    "                    ).dot(left_HCPMMP1_mean.T).T\n",
    "                )[np.triu_indices_from(left_static_FC, k=1)]\n",
    "            )[0, 1]\n",
    "            for length in tqdm(range(1, 201), desc=\"number of modes\", position=2, leave=False)\n",
    "        ])\n",
    "    eigenmode = \"Geometry (Pang et al.)\"\n",
    "    subject_static_FC_reconstruction_accuracies_rest[subject][f'{eigenmode} prediction'] = np.array([\n",
    "        np.corrcoef(\n",
    "            left_static_FC_triu,\n",
    "            np.corrcoef(\n",
    "                np.dot(\n",
    "                    rest_reconstruction_coeffs[subject][f'{eigenmode} prediction'][:,:length],\n",
    "                    eigenmodes[eigenmode].T[:length]\n",
    "                ).dot(left_HCPMMP1_mean.T).T\n",
    "            )[np.triu_indices_from(left_static_FC, k=1)]\n",
    "        )[0, 1]\n",
    "        for length in range(1, 201)\n",
    "    ])\n"
   ]
  },
  {
   "cell_type": "code",
   "execution_count": null,
   "id": "5b4bffa9-9be8-448e-a1c6-03074d177277",
   "metadata": {},
   "outputs": [],
   "source": [
    "# efficiently store values for future use\n",
    "write_json(\n",
    "    subject_static_FC_reconstruction_accuracies_rest,\n",
    "    ensure_dir(f'{data_dir}/reconstruction_accuracy/rest/subject_static_FC_reconstruction_accuracies_rest.json'),\n",
    ");\n"
   ]
  },
  {
   "cell_type": "code",
   "execution_count": null,
   "id": "77ffe1bd-c2b7-4442-83db-b2b7e541941c",
   "metadata": {},
   "outputs": [],
   "source": [
    "# this cell can be used to load the stored accuracies\n",
    "subject_static_FC_reconstruction_accuracies_rest = load_json(\n",
    "    f'{data_dir}/reconstruction_accuracy/rest/subject_static_FC_reconstruction_accuracies_rest.json'\n",
    ")\n",
    "\n",
    "for subject in subject_static_FC_reconstruction_accuracies_rest:\n",
    "    for basis in subject_static_FC_reconstruction_accuracies_rest[subject]:\n",
    "        subject_static_FC_reconstruction_accuracies_rest[subject][basis] = np.array(subject_static_FC_reconstruction_accuracies_rest[subject][basis])\n",
    "        "
   ]
  },
  {
   "cell_type": "markdown",
   "id": "670a465b-3c57-45d0-ab3c-5d89dfb0d99d",
   "metadata": {},
   "source": [
    "#### Systematic evaluations:\n",
    "\n",
    "---\n",
    "\n",
    "In addition to the cells described above, we conducted a systematic evaluation of the influence of several connectome reconstruction decisions and parameters on reconstruction accuracy. These evaluations were completed using automated scripts that were executed as parallel jobs on a high-performance computing platform (via slurm). The scripts used for this systematic evaluation can be found in the `scripts` folder of the repository.\n"
   ]
  },
  {
   "cell_type": "markdown",
   "id": "396fb071-f6c4-4040-8b50-75107678f695",
   "metadata": {},
   "source": [
    "#### Store eigenmodes for the Matlab script (Procrustes)\n",
    "\n",
    "---\n",
    "\n",
    "A supplementary evaluation via Procrustes transformation was performed to evaluate the similarity between various eigenmodes. Considering this analysis was conducted by a Matlab script, the generated eigenmodes were exported to a Matlab-compatible format. If you wish to reproduce this analysis, make sure to execute the Matlab script (`demo_procrustes`) included in the `scripts` directory.\n"
   ]
  },
  {
   "cell_type": "code",
   "execution_count": 15,
   "id": "f7776670-e2b8-49b9-a758-99fc3bf0f287",
   "metadata": {},
   "outputs": [],
   "source": [
    "sio.savemat(\n",
    "    ensure_dir(f\"{data_dir}/eigenmodes/matlab/eigenmodes.mat\"),\n",
    "    {\n",
    "        'geometry_eigenmodes': eigenmodes['Geometry (Pang et al.)'],\n",
    "        'edr_eigenmodes': eigenmodes['EDR (Pang et al.)'],\n",
    "        'pang_connectome_eigenmodes': eigenmodes['Connectome (Pang et al.)'],\n",
    "        'our_connectome_eigenmodes': eigenmodes['Our connectome'],\n",
    "    }\n",
    ")\n"
   ]
  }
 ],
 "metadata": {
  "kernelspec": {
   "display_name": "Conda environment for normative modelling",
   "language": "python",
   "name": "pymc_env"
  },
  "language_info": {
   "codemirror_mode": {
    "name": "ipython",
    "version": 3
   },
   "file_extension": ".py",
   "mimetype": "text/x-python",
   "name": "python",
   "nbconvert_exporter": "python",
   "pygments_lexer": "ipython3",
   "version": "3.10.6"
  }
 },
 "nbformat": 4,
 "nbformat_minor": 5
}
